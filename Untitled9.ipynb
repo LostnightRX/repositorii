{
 "cells": [
  {
   "cell_type": "markdown",
   "id": "5088c32f",
   "metadata": {},
   "source": [
    "# мой блокнот"
   ]
  },
  {
   "cell_type": "code",
   "execution_count": null,
   "id": "576f7fdf",
   "metadata": {},
   "outputs": [],
   "source": [
    "while 0 == 0:\n",
    "    print(\"x\")"
   ]
  },
  {
   "cell_type": "code",
   "execution_count": null,
   "id": "cfa0b9a0",
   "metadata": {},
   "outputs": [],
   "source": []
  }
 ],
 "metadata": {
  "kernelspec": {
   "display_name": "Python 3 (ipykernel)",
   "language": "python",
   "name": "python3"
  },
  "language_info": {
   "codemirror_mode": {
    "name": "ipython",
    "version": 3
   },
   "file_extension": ".py",
   "mimetype": "text/x-python",
   "name": "python",
   "nbconvert_exporter": "python",
   "pygments_lexer": "ipython3",
   "version": "3.10.7"
  }
 },
 "nbformat": 4,
 "nbformat_minor": 5
}
